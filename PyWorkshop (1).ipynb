{
 "cells": [
  {
   "cell_type": "markdown",
   "metadata": {},
   "source": [
    "***\n",
    "# Ellipsis Python Workshop\n",
    "<b>Welcome, Freshmen! This guide is your first step into the exciting world of Python programming. We'll cover the basics and get you ready for a hands-on learning experience.</b><br>\n",
    "\n",
    "<b>Learning Outcomes:</b>\n",
    "\n",
    "- Running code on VSCode\n",
    "- Variables and Data Types\n",
    "- Changing Data Types\n",
    "- Arithmetic Operations\n",
    "- Formatted String Literals (f-strings)\n",
    "- Comparison Operations\n",
    "- User Input\n",
    "- Control Structures\n",
    "- Loops\n",
    "- Functions\n",
    "- Lists and Tuples\n",
    "- Dictionaries\n",
    "***\n",
    "## Why Learn Python?\n",
    "\n",
    "- **Easy to Learn:** Python's syntax is simple and readable, making it a great first programming language.\n",
    "- **Versatile:** Used in web development, data analysis, machine learning, and more.\n",
    "- **Community:** Large, supportive community with plenty of resources.\n",
    "***\n",
    "## What You'll Need\n",
    "\n",
    "1. **Python:** Download and install Python from [python.org](https://www.python.org/).\n",
    "2. **IDE:** An Integrated Development Environment (IDE) helps you write code. \n",
    "   - [VS Code](https://code.visualstudio.com/)\n",
    "\n",
    "### Steps to run your first program\n",
    "1. Open your IDE.\n",
    "2. Create a new file and save it with a .py extension (e.g., hello.py).\n",
    "3. Begin writing code in the file!\n",
    "***\n",
    "## Your First Python Program\n",
    "\n",
    "Let's start with a classic:\n",
    "\n",
    "```python\n",
    "print(\"Hello, World!\")"
   ]
  },
  {
   "cell_type": "code",
   "execution_count": 30,
   "metadata": {},
   "outputs": [
    {
     "name": "stdout",
     "output_type": "stream",
     "text": [
      "Hello, World!\n"
     ]
    }
   ],
   "source": [
    "print('Hello, World!')\n"
   ]
  },
  {
   "cell_type": "markdown",
   "metadata": {},
   "source": [
    "***\n",
    "## Basic Concepts\n",
    "### Variables and Data Types\n",
    "Variables are used to store data that can be used and manipulated throughout your program. Python supports several data types, here are some common types of data:\n",
    "1) Integer\n",
    "2) Float \n",
    "3) String\n",
    "4) Boolean\n",
    "\n",
    "Not sure of the data type of the variable? You can use `type()` to check!"
   ]
  },
  {
   "cell_type": "code",
   "execution_count": 31,
   "metadata": {},
   "outputs": [
    {
     "name": "stdout",
     "output_type": "stream",
     "text": [
      "<class 'float'>\n"
     ]
    }
   ],
   "source": [
    "# Integer\n",
    "age = 18\n",
    "\n",
    "# Float\n",
    "height = 1.68\n",
    "\n",
    "# String\n",
    "name = \"Johnny\"\n",
    "\n",
    "# Boolean\n",
    "is_student = True\n",
    "\n",
    "# Check the data type of height\n",
    "print(type(height))\n"
   ]
  },
  {
   "cell_type": "markdown",
   "metadata": {},
   "source": [
    "### Your turn!\n",
    "Create three variables with their appropriate names and data types!\n",
    "1) Your full name\n",
    "2) Your height\n",
    "3) If you love coding"
   ]
  },
  {
   "cell_type": "code",
   "execution_count": 2,
   "metadata": {},
   "outputs": [
    {
     "name": "stdout",
     "output_type": "stream",
     "text": [
      "Mo Min Man 1.7 False\n"
     ]
    }
   ],
   "source": [
    "# Input your code here:\n",
    "# Your full name\n",
    "name = \"Mo Min Man\"\n",
    "# Your height\n",
    "height = 1.7\n",
    "# If you love coding\n",
    "coding_preference = False\n",
    "\n",
    "#use this:\n",
    "print(name, height, coding_preference)\n",
    "#or this (not both)\n",
    "print(f'{height} m')\n",
    "\n",
    "\n"
   ]
  },
  {
   "cell_type": "markdown",
   "metadata": {},
   "source": [
    "### Changing Data Types\n",
    "In Python, you may often need to convert data from one type to another. This process is known as type casting. Python provides built-in functions to convert between different data types. Here are some common type conversions:"
   ]
  },
  {
   "cell_type": "markdown",
   "metadata": {},
   "source": [
    "1. Converting to String: `str()`\n",
    "\n",
    "- The str() function converts a value to a string."
   ]
  },
  {
   "cell_type": "code",
   "execution_count": 32,
   "metadata": {},
   "outputs": [
    {
     "name": "stdout",
     "output_type": "stream",
     "text": [
      "10\n",
      "<class 'str'>\n",
      "3.14\n",
      "<class 'str'>\n"
     ]
    }
   ],
   "source": [
    "# Convert an integer to a string\n",
    "num = 10\n",
    "num_str = str(num)\n",
    "print(num_str)  # Output: \"10\"\n",
    "print(type(num_str))  # Output: <class 'str'>\n",
    "\n",
    "# Convert a float to a string\n",
    "pi = 3.14\n",
    "pi_str = str(pi)\n",
    "print(pi_str)  # Output: \"3.14\"\n",
    "print(type(pi_str))  # Output: <class 'str'>\n"
   ]
  },
  {
   "cell_type": "markdown",
   "metadata": {},
   "source": [
    "2. Converting to Integer: `int()`\n",
    "\n",
    "- The int() function converts a value to an integer. Note that this conversion can truncate decimal values."
   ]
  },
  {
   "cell_type": "code",
   "execution_count": 33,
   "metadata": {},
   "outputs": [
    {
     "name": "stdout",
     "output_type": "stream",
     "text": [
      "20\n",
      "<class 'int'>\n",
      "3\n",
      "<class 'int'>\n"
     ]
    }
   ],
   "source": [
    "# Convert a string to an integer\n",
    "num_str = \"20\"\n",
    "num = int(num_str)\n",
    "print(num)  # Output: 20\n",
    "print(type(num))  # Output: <class 'int'>\n",
    "\n",
    "# Convert a float to an integer\n",
    "pi = 3.14\n",
    "pi_int = int(pi)\n",
    "print(pi_int)  # Output: 3\n",
    "print(type(pi_int))  # Output: <class 'int'>\n"
   ]
  },
  {
   "cell_type": "markdown",
   "metadata": {},
   "source": [
    "3. Converting to Float: `float()`\n",
    "- The float() function converts a value to a float."
   ]
  },
  {
   "cell_type": "code",
   "execution_count": 34,
   "metadata": {},
   "outputs": [
    {
     "name": "stdout",
     "output_type": "stream",
     "text": [
      "10.5\n",
      "<class 'float'>\n",
      "10.0\n",
      "<class 'float'>\n"
     ]
    }
   ],
   "source": [
    "# Convert a string to a float\n",
    "num_str = \"10.5\"\n",
    "num_float = float(num_str)\n",
    "print(num_float)  # Output: 10.5\n",
    "print(type(num_float))  # Output: <class 'float'>\n",
    "\n",
    "# Convert an integer to a float\n",
    "num = 10\n",
    "num_float = float(num)\n",
    "print(num_float)  # Output: 10.0\n",
    "print(type(num_float))  # Output: <class 'float'>\n"
   ]
  },
  {
   "cell_type": "markdown",
   "metadata": {},
   "source": [
    "4. Converting to Boolean: `bool()`\n",
    "- The bool() function converts a value to a boolean. In Python, any non-zero number or non-empty object is considered True, while zero, None, and empty objects are considered False."
   ]
  },
  {
   "cell_type": "code",
   "execution_count": 35,
   "metadata": {},
   "outputs": [
    {
     "name": "stdout",
     "output_type": "stream",
     "text": [
      "True\n",
      "<class 'bool'>\n",
      "False\n",
      "<class 'bool'>\n"
     ]
    }
   ],
   "source": [
    "# Convert an integer to a boolean\n",
    "num = 1\n",
    "bool_value = bool(num)\n",
    "print(bool_value)  # Output: True\n",
    "print(type(bool_value))  # Output: <class 'bool'>\n",
    "\n",
    "# Convert an empty string to a boolean\n",
    "empty_str = \"\"\n",
    "bool_value = bool(empty_str)\n",
    "print(bool_value)  # Output: False\n",
    "print(type(bool_value))  # Output: <class 'bool'>\n"
   ]
  },
  {
   "cell_type": "markdown",
   "metadata": {},
   "source": [
    "***\n",
    "## Basic Operations\n",
    "### Arithmetic operations\n",
    "Python allows you to carry out arithmetic operations, here are some basic examples of how!\n",
    "\n",
    "### Remember the PEMDAS Rule!\n",
    "\n",
    "When performing arithmetic operations, Python follows the PEMDAS rule to determine the order of operations. \n",
    "\n",
    "**PEMDAS** stands for:\n",
    "- **P**arentheses `()`\n",
    "- **E**xponents `**`\n",
    "- **M**ultiplication `*` and **D**ivision `/` (from left to right)\n",
    "- **A**ddition `+` and **S**ubtraction `-` (from left to right)"
   ]
  },
  {
   "cell_type": "code",
   "execution_count": 36,
   "metadata": {},
   "outputs": [
    {
     "name": "stdout",
     "output_type": "stream",
     "text": [
      "15\n",
      "5\n",
      "50\n",
      "2.0\n",
      "0\n",
      "100000\n",
      "2\n",
      "Hello World\n"
     ]
    }
   ],
   "source": [
    "# Arithmetic operations\n",
    "a = 10\n",
    "b = 5\n",
    "\n",
    "print(a + b)  # Addition\n",
    "print(a - b)  # Subtraction\n",
    "print(a * b)  # Multiplication\n",
    "print(a / b)  # Division\n",
    "print(a % b)  # Modulus\n",
    "print(a ** b) # Exponent\n",
    "print(a // b) # Quotient\n",
    "\n",
    "# String operations\n",
    "greeting = \"Hello\"\n",
    "place = \"World\"\n",
    "print(greeting + \" \" + place)  # Concatenation\n"
   ]
  },
  {
   "cell_type": "markdown",
   "metadata": {},
   "source": [
    "### Things to Note\n",
    "You can only concatentate string variables together. You are not able to concatentate a string with integers or floats."
   ]
  },
  {
   "cell_type": "code",
   "execution_count": 38,
   "metadata": {},
   "outputs": [
    {
     "name": "stdout",
     "output_type": "stream",
     "text": [
      "1010\n"
     ]
    }
   ],
   "source": [
    "number = \"10\"\n",
    "a = 10\n",
    "\n",
    "# Try printing this \n",
    "print(number + a) #wrong eg\n",
    "\n",
    "# As \"number\" is a string variable and \"a\" is a integer variable, they are not able to concatenate.\n",
    "# You will need to convert \"a\" into a string first\n",
    "\n",
    "print(number + str(a)) #correct example"
   ]
  },
  {
   "cell_type": "markdown",
   "metadata": {},
   "source": [
    "### Formatted String Literals (f-strings)\n",
    "Formatted string literals, also known as f-strings, provide a concise and readable way to include expressions inside string literals using curly braces {}. F-strings are prefixed with an f or F before the opening quotation mark. They allow you to embed expressions inside strings and directly include the values of variables and expressions.\n",
    "\n",
    "<b>Basic Usage</b>\n",
    "\n",
    "To create an f-string, simply prefix your string with f and use curly braces {} to include expressions or variable names that you want to evaluate and insert into the string."
   ]
  },
  {
   "cell_type": "code",
   "execution_count": 39,
   "metadata": {},
   "outputs": [
    {
     "name": "stdout",
     "output_type": "stream",
     "text": [
      "My name is Alice and I am 30 years old.\n"
     ]
    }
   ],
   "source": [
    "name = \"Alice\"\n",
    "age = 30\n",
    "\n",
    "# Using f-strings\n",
    "print(f\"My name is {name} and I am {age} years old.\")\n"
   ]
  },
  {
   "cell_type": "markdown",
   "metadata": {},
   "source": [
    "<b>Example with Arithmetic Expressions</b>\n",
    "\n",
    "You can also include expressions inside the curly braces."
   ]
  },
  {
   "cell_type": "code",
   "execution_count": 40,
   "metadata": {},
   "outputs": [
    {
     "name": "stdout",
     "output_type": "stream",
     "text": [
      "The sum of 5 and 3 is 8.\n",
      "5 multiplied by 3 equals 15.\n"
     ]
    }
   ],
   "source": [
    "a = 5\n",
    "b = 3\n",
    "\n",
    "print(f\"The sum of {a} and {b} is {a + b}.\")\n",
    "print(f\"{a} multiplied by {b} equals {a * b}.\")\n"
   ]
  },
  {
   "cell_type": "markdown",
   "metadata": {},
   "source": [
    "<b>Formatting Numbers</b>\n",
    "\n",
    "You can use f-strings to format numbers with specific formatting options, such as rounding, specifying the number of decimal places, and including commas as thousand separators."
   ]
  },
  {
   "cell_type": "code",
   "execution_count": 41,
   "metadata": {},
   "outputs": [
    {
     "name": "stdout",
     "output_type": "stream",
     "text": [
      "Value of pi: 3.14\n",
      "Large number with commas: 1,000,000\n"
     ]
    }
   ],
   "source": [
    "pi = 3.14159\n",
    "large_number = 1000000\n",
    "\n",
    "print(f\"Value of pi: {pi:.2f}\")  # 2 decimal places\n",
    "print(f\"Large number with commas: {large_number:,}\")  # Commas as thousand separators\n"
   ]
  },
  {
   "cell_type": "markdown",
   "metadata": {},
   "source": [
    "### Comparison operators\n",
    "Comparison operators are used to compare two values. The result of a comparison is a boolean value (`True` or `False`)"
   ]
  },
  {
   "cell_type": "code",
   "execution_count": 42,
   "metadata": {},
   "outputs": [
    {
     "name": "stdout",
     "output_type": "stream",
     "text": [
      "False\n",
      "True\n",
      "True\n",
      "False\n",
      "True\n",
      "False\n"
     ]
    }
   ],
   "source": [
    "x = 10\n",
    "y = 5\n",
    "\n",
    "print(x == y)  # Equal to\n",
    "print(x != y)  # Not equal to\n",
    "print(x > y)   # Greater than\n",
    "print(x < y)   # Less than\n",
    "print(x >= y)  # Greater than or equal to\n",
    "print(x <= y)  # Less than or equal to\n"
   ]
  },
  {
   "cell_type": "markdown",
   "metadata": {},
   "source": [
    "### Your turn!\n",
    "You can use the space below to try out some of these operations"
   ]
  },
  {
   "cell_type": "code",
   "execution_count": null,
   "metadata": {},
   "outputs": [],
   "source": [
    "# Input your code here:\n",
    "\n",
    "\n"
   ]
  },
  {
   "cell_type": "markdown",
   "metadata": {},
   "source": [
    "***\n",
    "## User Input\n",
    "You can store user input into string variables"
   ]
  },
  {
   "cell_type": "code",
   "execution_count": 43,
   "metadata": {},
   "outputs": [
    {
     "name": "stdout",
     "output_type": "stream",
     "text": [
      "Hello lin hui, nice to meet you!\n"
     ]
    }
   ],
   "source": [
    "name = input(\"What is your name?\")\n",
    "\n",
    "print(\"Hello \" + name + \", nice to meet you!\")"
   ]
  },
  {
   "cell_type": "markdown",
   "metadata": {},
   "source": [
    "### Your turn!\n",
    "Create a simple BMI calculator that takes in the user's name, weight, and height and display a ```Hi [name], your BMI is [bmi].```\n",
    "\n",
    "The BMI calculation formula is $BMI = \\frac{Weight}{Height^2}$"
   ]
  },
  {
   "cell_type": "code",
   "execution_count": 8,
   "metadata": {},
   "outputs": [
    {
     "name": "stdout",
     "output_type": "stream",
     "text": [
      "Hi  lin hui , your BMI is 0.002\n"
     ]
    }
   ],
   "source": [
    "name = input('What is your name?')\n",
    "weight = float(input('What is your weight?'))\n",
    "height = float(input('What is your height?'))\n",
    "\n",
    "BMI = weight / height ** 2\n",
    "\n",
    "#Use this:\n",
    "print(f'Hi {name}, your BMI is {BMI:.2f}.')\n",
    "#Or this (not both)\n",
    "print(\"Hi\" , name , \", your BMI is\" , BMI)\n",
    "\n"
   ]
  },
  {
   "cell_type": "markdown",
   "metadata": {},
   "source": [
    "***\n",
    "## Control Structures\n",
    "Control structures allow you to control the flow of your program based on certain conditions or repeat actions multiple times.\n",
    "\n",
    "Conditional Statements\n",
    "Conditional statements let you execute code based on certain conditions. The basic structure is `if`, `elif`, and `else`."
   ]
  },
  {
   "cell_type": "code",
   "execution_count": 44,
   "metadata": {},
   "outputs": [
    {
     "name": "stdout",
     "output_type": "stream",
     "text": [
      "x is positive\n"
     ]
    }
   ],
   "source": [
    "x = 10\n",
    "\n",
    "if x > 0:\n",
    "    print(\"x is positive\")\n",
    "elif x < 0:\n",
    "    print(\"x is negative\")\n",
    "else:\n",
    "    print(\"x is zero\")\n"
   ]
  },
  {
   "cell_type": "markdown",
   "metadata": {},
   "source": [
    "In Python, `and` and `or` are logical operators used to combine multiple conditions in control structures like `if` statements. These operators help to create more complex conditional logic by combining multiple boolean expressions."
   ]
  },
  {
   "cell_type": "code",
   "execution_count": 45,
   "metadata": {},
   "outputs": [
    {
     "name": "stdout",
     "output_type": "stream",
     "text": [
      "Both conditions are met.\n",
      "One or more conditions met.\n",
      "None of the conditions are met.\n"
     ]
    }
   ],
   "source": [
    "age = 10\n",
    "height = 1.13\n",
    "\n",
    "\n",
    "if age == 10 and height >= 1.1:\n",
    "    print(\"Both conditions are met.\")\n",
    "\n",
    "\n",
    "if age == 12 or height >= 1.1:\n",
    "    print(\"One or more conditions met.\")\n",
    "\n",
    "\n",
    "if age == 12 and height == 1.3:\n",
    "    print(\"Both conditions are met.\")\n",
    "else:\n",
    "    print(\"None of the conditions are met.\")\n"
   ]
  },
  {
   "cell_type": "markdown",
   "metadata": {},
   "source": [
    "### Your turn!\n",
    "You are a theme park assistant, write a script that takes in three parameters: \n",
    "- `height` which is a float that contains the user's height\n",
    "- `weight` which is a float that contains the user's weight\n",
    "- `age` which is an integer that contains the user's age\n",
    "\n",
    "For the user to be allowed on the ride, their `height` must be at least 1.3 meters tall, `weight` to be at most 80 kg, and `age` to be between 9 and 70 (inclusive)."
   ]
  },
  {
   "cell_type": "code",
   "execution_count": 4,
   "metadata": {},
   "outputs": [
    {
     "name": "stdout",
     "output_type": "stream",
     "text": [
      "do not enter.\n"
     ]
    }
   ],
   "source": [
    "# Input your code here:\n",
    "height = float(input('What is your height in meters?'))\n",
    "weight = float(input('What is your weight in kg?'))\n",
    "age = int(input('What is your age?'))\n",
    "\n",
    "if height >= 1.3 and weight <= 80 and (9 <= age <= 70): \n",
    "    print('you are allowed on this ride')\n",
    "else:\n",
    "    print('do not enter.')\n",
    "\n",
    "\n"
   ]
  },
  {
   "cell_type": "markdown",
   "metadata": {},
   "source": [
    "### Loops\n",
    "Loops are used to repeat a block of code multiple times. Python supports `for` and `while` loops."
   ]
  },
  {
   "cell_type": "code",
   "execution_count": 46,
   "metadata": {},
   "outputs": [
    {
     "name": "stdout",
     "output_type": "stream",
     "text": [
      "0\n",
      "1\n",
      "2\n",
      "3\n",
      "4\n",
      "0\n",
      "1\n",
      "2\n",
      "3\n",
      "4\n",
      "loop stopped at 5\n"
     ]
    }
   ],
   "source": [
    "# For loop: iterates over a sequence (e.g., a range of numbers)\n",
    "for i in range(5):\n",
    "    print(i)\n",
    "\n",
    "# While loop: repeats as long as a condition is true\n",
    "count = 0\n",
    "while count < 5:\n",
    "    print(count)\n",
    "    count += 1\n",
    "print(f'loop stopped at {count}')\n"
   ]
  },
  {
   "cell_type": "markdown",
   "metadata": {},
   "source": [
    "### Your turn!\n",
    "Write a simple script that sums up all even numbers between 1 and 100."
   ]
  },
  {
   "cell_type": "code",
   "execution_count": 48,
   "metadata": {},
   "outputs": [
    {
     "ename": "IndentationError",
     "evalue": "unindent does not match any outer indentation level (<string>, line 22)",
     "output_type": "error",
     "traceback": [
      "\u001b[0;36m  File \u001b[0;32m<string>:22\u001b[0;36m\u001b[0m\n\u001b[0;31m    count += 1\u001b[0m\n\u001b[0m              ^\u001b[0m\n\u001b[0;31mIndentationError\u001b[0m\u001b[0;31m:\u001b[0m unindent does not match any outer indentation level\n"
     ]
    }
   ],
   "source": [
    "# eg 1\n",
    "total = 0\n",
    "for i in range(2,100,2):\n",
    "   if 0 == i % 2:\n",
    "    print(i)\n",
    "    total += i\n",
    "print(total)        \n",
    "\n",
    "# eg 2\n",
    "total = 0\n",
    "for i in range(1,101):\n",
    "   if 0 == i % 2:\n",
    "    total += i\n",
    "print(total)        \n",
    "\n",
    "# eg 3\n",
    "sum = o\n",
    "count = 1\n",
    "while count <100: \n",
    "   if count % 2 == 0: \n",
    "      sum += count\n",
    "    count += 1\n",
    "   \n",
    "   for i in range(2,101,2):\n",
    "     sum += i\n",
    "   \n",
    "   print(sum)\n",
    "\n",
    "\n",
    "\n",
    "\n",
    "    \n",
    "\n"
   ]
  },
  {
   "cell_type": "markdown",
   "metadata": {},
   "source": [
    "***\n",
    "## Functions\n",
    "Functions are reusable blocks of code that perform a specific task. They help to organize your code and make it more modular."
   ]
  },
  {
   "cell_type": "code",
   "execution_count": null,
   "metadata": {},
   "outputs": [],
   "source": [
    "# Defining a function\n",
    "def greet(name):\n",
    "    return \"Hello, \" + name\n",
    "\n",
    "# Calling the function\n",
    "print(greet(\"Jonathan\"))\n",
    "\n",
    "\n",
    "\n",
    "\n",
    "# another method\n",
    "def greet():\n",
    "    return \"Hello World!\"\n",
    "print(greet())\n"
   ]
  },
  {
   "cell_type": "markdown",
   "metadata": {},
   "source": [
    "### Global vs local variables\n",
    "<b>Local variables</b> \n",
    "- Definition: Local variables are defined within a function and can only be used inside that function. They are created when the function starts and destroyed when the function ends.\n",
    "- Scope: The scope of a local variable is limited to the function in which it is defined.\n",
    "- Example:"
   ]
  },
  {
   "cell_type": "code",
   "execution_count": 49,
   "metadata": {},
   "outputs": [
    {
     "name": "stdout",
     "output_type": "stream",
     "text": [
      "10\n"
     ]
    }
   ],
   "source": [
    "def new_function():\n",
    "    local_variable = 10 # Declared a local variable\n",
    "    print(local_variable)\n",
    "\n",
    "new_function()\n",
    "\n",
    "# Uncomment out the next line to see what happens when u try to print \"local_variable\" outside of the function\n",
    "# print(local_variable)"
   ]
  },
  {
   "cell_type": "markdown",
   "metadata": {},
   "source": [
    "<b>Global variables</b>\n",
    "- Defintion: Global variables are defined outside of any function and can be accessed and modified from anywhere in your code.\n",
    "- Scope: The scope of a global variable is the entire program.\n",
    "- Example:"
   ]
  },
  {
   "cell_type": "code",
   "execution_count": 51,
   "metadata": {},
   "outputs": [
    {
     "name": "stdout",
     "output_type": "stream",
     "text": [
      "10\n",
      "100\n"
     ]
    }
   ],
   "source": [
    "global_variable = 10 # Declared a global variable\n",
    "\n",
    "#global, built in, enclosed, local -> scopes, LEGB python\n",
    "def print_global_variable():\n",
    "    global global_variable\n",
    "    print(global_variable)\n",
    "\n",
    "def change_global_variable():\n",
    "    global global_variable\n",
    "    global_variable = 100\n",
    "\n",
    "print_global_variable()\n",
    "change_global_variable()\n",
    "print(global_variable)\n"
   ]
  },
  {
   "cell_type": "markdown",
   "metadata": {},
   "source": [
    "### Your turn!\n",
    "You are an assistant at a supermarket. Your task is to create a function called `add_single_item` that takes two parameters: a string `item`, which contains the name of the item, and a float `price`, which contains the price of the item. You have a global variable called `cart` that keeps track of the total cost of items added. The `add_single_item` function should add the price of the item to cart and print a message: `[item] of cost $[price] added to cart!`."
   ]
  },
  {
   "cell_type": "code",
   "execution_count": 52,
   "metadata": {},
   "outputs": [],
   "source": [
    "# Edit the following code:\n",
    "\n",
    "def add_single_item(item,price):\n",
    "    # Do something\n",
    "    pass\n"
   ]
  },
  {
   "cell_type": "code",
   "execution_count": 53,
   "metadata": {},
   "outputs": [
    {
     "name": "stdout",
     "output_type": "stream",
     "text": [
      "0\n"
     ]
    }
   ],
   "source": [
    "# Tests to check\n",
    "cart = 0\n",
    "add_single_item(\"Milk\",7.90)\n",
    "add_single_item(\"Rice\",10)\n",
    "add_single_item(\"Bread\",4.50)\n",
    "print(cart)"
   ]
  },
  {
   "cell_type": "markdown",
   "metadata": {},
   "source": [
    "***\n",
    "## Lists and Tuples\n",
    "### Lists\n",
    "Lists are ordered collections of items that are changeable. You can add, remove, and modify items in a list.\n",
    "\n",
    "![Fruit List](img/list.png)"
   ]
  },
  {
   "cell_type": "code",
   "execution_count": 54,
   "metadata": {},
   "outputs": [
    {
     "name": "stdout",
     "output_type": "stream",
     "text": [
      "apple\n",
      "['apple', 'cherry', 'durian', 'tomato', 'orange']\n",
      "5\n"
     ]
    }
   ],
   "source": [
    "# Creating a list\n",
    "fruits_list = [\"apple\", \"banana\", \"cherry\", \"durian\", \"tomato\"]\n",
    "\n",
    "# Accessing elements\n",
    "print(fruits_list[0])  # First element\n",
    "\n",
    "# Adding an element to the back of the list\n",
    "fruits_list.append(\"orange\")\n",
    "\n",
    "# Removing an element\n",
    "fruits_list.remove(\"banana\")\n",
    "\n",
    "# List methods\n",
    "print(fruits_list)\n",
    "\n",
    "# To see the length of the list\n",
    "print(len(fruits_list))\n"
   ]
  },
  {
   "cell_type": "markdown",
   "metadata": {},
   "source": [
    "### Tuples\n",
    "Tuples are similar to lists but are immutable, meaning they cannot be changed after creation. They are useful for storing related pieces of information."
   ]
  },
  {
   "cell_type": "code",
   "execution_count": 24,
   "metadata": {},
   "outputs": [
    {
     "name": "stdout",
     "output_type": "stream",
     "text": [
      "green\n"
     ]
    }
   ],
   "source": [
    "# Creating a tuple\n",
    "colors_list = (\"red\", \"green\", \"blue\")\n",
    "\n",
    "# Accessing elements\n",
    "print(colors_list[1])  # Second element\n",
    "\n",
    "# Tuples are immutable, so you cannot add or remove elements\n"
   ]
  },
  {
   "cell_type": "markdown",
   "metadata": {},
   "source": [
    "### Looping Through Lists and Tuples\n",
    "Values can be accessed through loops for both lists and tuples"
   ]
  },
  {
   "cell_type": "code",
   "execution_count": 26,
   "metadata": {},
   "outputs": [
    {
     "name": "stdout",
     "output_type": "stream",
     "text": [
      "apple\n",
      "cherry\n",
      "durian\n",
      "tomato\n",
      "orange\n",
      "red\n",
      "green\n",
      "blue\n"
     ]
    }
   ],
   "source": [
    "# Looping through the list\n",
    "for fruit in fruits_list:\n",
    "    print(fruit)\n",
    "\n",
    "# Looping through the tuple\n",
    "for color in colors_list:\n",
    "    print(color)"
   ]
  },
  {
   "cell_type": "markdown",
   "metadata": {},
   "source": [
    "### Your turn!\n",
    "Create a list of five fruits and print each fruit using a for loop."
   ]
  },
  {
   "cell_type": "code",
   "execution_count": 57,
   "metadata": {},
   "outputs": [
    {
     "name": "stdout",
     "output_type": "stream",
     "text": [
      "mango\n",
      "coconut\n",
      "banana\n",
      "kiwi\n",
      "durian\n"
     ]
    }
   ],
   "source": [
    "fruits = (\"mango\", \"coconut\", \"banana\", \"kiwi\", \"durian\")\n",
    "for fruit in fruits:\n",
    "    print(fruit)\n",
    "\n"
   ]
  },
  {
   "cell_type": "markdown",
   "metadata": {},
   "source": [
    "***\n",
    "## Dictionaries\n",
    "Dictionaries in Python are used to store data in key-value pairs. Each key is unique and maps to a value. They are useful for representing structured data, such as a list of items with their prices.\n",
    "### Creating a Dictionary\n",
    "You can create a dictionary by placing a comma-separated sequence of key-value pairs within curly braces {}, with a colon : separating keys and values."
   ]
  },
  {
   "cell_type": "code",
   "execution_count": 58,
   "metadata": {},
   "outputs": [
    {
     "name": "stdout",
     "output_type": "stream",
     "text": [
      "{'apple': 0.5, 'banana': 0.25, 'orange': 0.75}\n"
     ]
    }
   ],
   "source": [
    "# Example dictionary\n",
    "items_prices = {\n",
    "    \"apple\": 0.50,\n",
    "    \"banana\": 0.25,\n",
    "    \"orange\": 0.75\n",
    "}\n",
    "\n",
    "print(items_prices)  # Output: {'apple': 0.5, 'banana': 0.25, 'orange': 0.75}\n"
   ]
  },
  {
   "cell_type": "markdown",
   "metadata": {},
   "source": [
    "### Accessing Values\n",
    "You can access the value associated with a specific key by using square brackets []."
   ]
  },
  {
   "cell_type": "code",
   "execution_count": 59,
   "metadata": {},
   "outputs": [
    {
     "name": "stdout",
     "output_type": "stream",
     "text": [
      "The price of an apple is $0.5\n"
     ]
    }
   ],
   "source": [
    "# Accessing the price of an apple\n",
    "apple_price = items_prices[\"apple\"]\n",
    "print(\"The price of an apple is $\" + str(apple_price))\n"
   ]
  },
  {
   "cell_type": "markdown",
   "metadata": {},
   "source": [
    "### Adding and Modifying Entries\n",
    "You can add a new key-value pair or modify an existing one by assigning a value to a key."
   ]
  },
  {
   "cell_type": "code",
   "execution_count": 60,
   "metadata": {},
   "outputs": [
    {
     "name": "stdout",
     "output_type": "stream",
     "text": [
      "{'apple': 0.5, 'banana': 0.3, 'orange': 0.75, 'grape': 1.0}\n"
     ]
    }
   ],
   "source": [
    "# Adding a new item\n",
    "items_prices[\"grape\"] = 1.00\n",
    "\n",
    "# Modifying the price of an existing item\n",
    "items_prices[\"banana\"] = 0.30\n",
    "\n",
    "print(items_prices)  # Output: {'apple': 0.5, 'banana': 0.3, 'orange': 0.75, 'grape': 1.0}\n"
   ]
  },
  {
   "cell_type": "markdown",
   "metadata": {},
   "source": [
    "### Removing Entries\n",
    "You can remove a key-value pair using the `del` statement or the `pop` method"
   ]
  },
  {
   "cell_type": "code",
   "execution_count": 61,
   "metadata": {},
   "outputs": [
    {
     "name": "stdout",
     "output_type": "stream",
     "text": [
      "{'apple': 0.5, 'banana': 0.3}\n",
      "Removed grape, price was $1.0\n"
     ]
    }
   ],
   "source": [
    "# Removing an item using del\n",
    "del items_prices[\"orange\"]\n",
    "\n",
    "# Removing an item using pop\n",
    "grape_price = items_prices.pop(\"grape\")\n",
    "\n",
    "print(items_prices)  # Output: {'apple': 0.5, 'banana': 0.3}\n",
    "print(\"Removed grape, price was $\" + str(grape_price))"
   ]
  },
  {
   "cell_type": "markdown",
   "metadata": {},
   "source": [
    "### Checking for Keys in a Dictionary\n",
    "You can check for the existence of a key in a dictionary using `in`"
   ]
  },
  {
   "cell_type": "code",
   "execution_count": 62,
   "metadata": {},
   "outputs": [
    {
     "name": "stdout",
     "output_type": "stream",
     "text": [
      "watermelon not found in list\n"
     ]
    }
   ],
   "source": [
    "if \"orange\" in items_prices:\n",
    "    print(\"orange is in the dictionary with price $\" + str(items_prices[\"orange\"]))\n",
    "\n",
    "if \"watermelon\" in items_prices:\n",
    "    print(\"watermelon is in the dictionary with price $\" + str(items_prices[\"watermelon\"]))\n",
    "else:\n",
    "    print(\"watermelon not found in list\")"
   ]
  },
  {
   "cell_type": "markdown",
   "metadata": {},
   "source": [
    "### Looping Through a Dictionary\n",
    "You can loop through a dictionary to access keys, values, or both."
   ]
  },
  {
   "cell_type": "code",
   "execution_count": 63,
   "metadata": {},
   "outputs": [
    {
     "name": "stdout",
     "output_type": "stream",
     "text": [
      "apple\n",
      "banana\n",
      "0.5\n",
      "0.3\n",
      "The price of apple is $0.5\n",
      "The price of banana is $0.3\n"
     ]
    }
   ],
   "source": [
    "# Looping through keys\n",
    "for item in items_prices:\n",
    "    print(item)\n",
    "\n",
    "# Looping through values\n",
    "for price in items_prices.values():\n",
    "    print(price)\n",
    "\n",
    "# Looping through key-value pairs\n",
    "for item, price in items_prices.items():\n",
    "    print(\"The price of \"+ item + \" is $\" + str(price))\n"
   ]
  },
  {
   "cell_type": "markdown",
   "metadata": {},
   "source": [
    "### Your turn!\n",
    "<b>Creating and Accessing:</b>\n",
    "\n",
    "- Create a dictionary called inventory with three items and their quantities. Access and print the quantity of one specific item.\n",
    "\n",
    "<b>Adding and Modifying:</b>\n",
    "\n",
    "- Add two new items to the inventory dictionary and modify the quantity of an existing item. Print the updated dictionary.\n",
    "\n",
    "<b>Removing:</b>\n",
    "\n",
    "- Remove one item from the inventory dictionary using both the del statement and the pop method. Print the dictionary after each removal.\n",
    "\n",
    "<b>Looping:</b>\n",
    "\n",
    "- Write a loop that prints each item and its quantity in the inventory dictionary."
   ]
  },
  {
   "cell_type": "code",
   "execution_count": 64,
   "metadata": {},
   "outputs": [
    {
     "name": "stdout",
     "output_type": "stream",
     "text": [
      "Quantity of mangoes: 5\n",
      "\n",
      "Updated Inventory: {'mango': 5, 'potato': 100, 'pillow': 2, 'kang kong': 12}\n",
      "\n",
      "Inventory after using del: {'mango': 5, 'potato': 100, 'kang kong': 12}\n",
      "Inventory after using pop: {'mango': 5, 'kang kong': 12}\n",
      "\n",
      "Final Inventory Items:\n",
      "mango: 5\n",
      "kang kong: 12\n"
     ]
    }
   ],
   "source": [
    "# Input your code here\n",
    "\n",
    "# 1. Creating and Accessing\n",
    "inventory = {\n",
    "    \"mango\": 5,\n",
    "    \"potato\": 7,\n",
    "    \"pillow\": 2\n",
    "}\n",
    "\n",
    "print(\"Quantity of mangoes:\", inventory[\"mango\"])\n",
    "\n",
    "\n",
    "# 2. Adding kang kong and Modifying potato qty\n",
    "inventory[\"kang kong\"] = 12\n",
    "inventory[\"potato\"] = 100\n",
    "print(\"\\nUpdated Inventory:\", inventory)\n",
    "\n",
    "# 3. Removing\n",
    "del inventory[\"pillow\"] # Removing an item using the del statement\n",
    "print(\"\\nInventory after using del:\", inventory)\n",
    "\n",
    "inventory.pop(\"potato\")   # Removing an item using the pop method\n",
    "print(\"Inventory after using pop:\", inventory)\n",
    "\n",
    "\n",
    "# 4. Looping\n",
    "print(\"\\nFinal Inventory Items:\")\n",
    "for item, quantity in inventory.items():\n",
    "    print(f\"{item}: {quantity}\")\n"
   ]
  },
  {
   "cell_type": "markdown",
   "metadata": {},
   "source": [
    "<h6>This workshop was created with the help of the following individuals:\n",
    "\n",
    "- **Ernest Heng Meng Wee** - For the creation of the teaching guide, practice questions, and solutions.\n",
    "- **Theodore James Lengkong** - For contributing to the practice questions.\n",
    "- **Johnny Kaung Nyan Lin** - For vetting the content.\n",
    "\n",
    "Special thanks to everyone who contributed to this project!</h6>"
   ]
  }
 ],
 "metadata": {
  "kernelspec": {
   "display_name": "Python 3",
   "language": "python",
   "name": "python3"
  },
  "language_info": {
   "codemirror_mode": {
    "name": "ipython",
    "version": 3
   },
   "file_extension": ".py",
   "mimetype": "text/x-python",
   "name": "python",
   "nbconvert_exporter": "python",
   "pygments_lexer": "ipython3",
   "version": "3.12.5"
  }
 },
 "nbformat": 4,
 "nbformat_minor": 2
}
